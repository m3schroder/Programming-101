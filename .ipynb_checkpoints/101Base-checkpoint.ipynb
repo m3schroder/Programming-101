{
 "cells": [
  {
   "cell_type": "code",
   "execution_count": 9,
   "id": "850fc41e-af35-4a87-8757-2f76c9ca75e0",
   "metadata": {
    "jupyter": {
     "source_hidden": true
    },
    "tags": []
   },
   "outputs": [
    {
     "data": {
      "text/html": [
       "<style>\n",
       "    table {\n",
       "        display: inline-block\n",
       "    }\n",
       "    \n",
       "</style>\n"
      ],
      "text/plain": [
       "<IPython.core.display.HTML object>"
      ]
     },
     "metadata": {},
     "output_type": "display_data"
    }
   ],
   "source": [
    "%%html\n",
    "<style>\n",
    "    table {\n",
    "        display: inline-block\n",
    "    }\n",
    "    \n",
    "</style>"
   ]
  },
  {
   "cell_type": "markdown",
   "id": "7104ae91-82fc-48e8-aa85-eb07d92a5acd",
   "metadata": {},
   "source": [
    "## How this works\n",
    "----------------"
   ]
  },
  {
   "cell_type": "markdown",
   "id": "fb93cb9d-3499-4f39-8f80-999c2607565f",
   "metadata": {},
   "source": [
    "Welcome to jupyter notebook and markdown! This is my favorite IDE for the Python scripting language for many reasons. It is a highly interactive environment that allows you to run code in individual cells and comment using markdown syntax like what you're reading now. We will use Python as a basis for most new concepts and this IDE will be our homebase for instruction / explanation but we will be jumping around to other languages and editors between topics. Any text based instruction for this course will be presented in markdown like this!  \n",
    "\n",
    "\n",
    "The fact that Python is a scripting language is actually key to the interactivity here. There are a two types of translation each with their own strengths and weaknesses. Here is a small table (that I made with markdown) that describes them briefly.\n",
    "\n",
    "|Type|Example|Strengths|Weaknesses|\n",
    "|----|-------|---------|----------|\n",
    "|[Interpreted](https://dev.to/codemouse92/what-is-an-interpreted-language-3fef)| Python  Javascript | Higher interactivity, generally more readable, potentially faster development| Slow run times because of the conversion from english to 0's and 1's|\n",
    "|[Compiled](https://www.educative.io/edpresso/what-is-a-compiled-language)| C#  C++ Java | Generally faster run times / computation,  better / more precise error checking | Harder to read,  slower development time|\n",
    "\n",
    "Knowing this will provide you with some context for when we switch to a compiled language like C#\n"
   ]
  },
  {
   "cell_type": "markdown",
   "id": "ba9c196a-67fe-45ff-8f3c-416fff14a292",
   "metadata": {},
   "source": [
    "## Comments\n",
    "----------------------"
   ]
  },
  {
   "cell_type": "markdown",
   "id": "3e2b279f-6ee7-4380-b22e-b9190a44c1d3",
   "metadata": {},
   "source": [
    "Comments are a part of the code that do not get interpreted ( or compiled ) when \n",
    "you run the program. They are there to help you and others make sense of your code.\n",
    "\n",
    "Without further ado here is our first line of python code"
   ]
  },
  {
   "cell_type": "code",
   "execution_count": 6,
   "id": "0e84f9ea-160d-462a-9fb9-e91467c673c0",
   "metadata": {},
   "outputs": [],
   "source": [
    "# First line of python code"
   ]
  },
  {
   "cell_type": "markdown",
   "id": "75d6aa8c-7a0c-4002-a8b4-95ae3bca949a",
   "metadata": {},
   "source": [
    "This is a basic single line comment in Python.\n",
    "A multiline comment could look like this..."
   ]
  },
  {
   "cell_type": "code",
   "execution_count": 20,
   "id": "23401f87-bb7d-4d27-a2bc-b5cff1b1590b",
   "metadata": {},
   "outputs": [],
   "source": [
    "# One comment\n",
    "# Two comment\n",
    "# Three comment\n",
    "# Four comment"
   ]
  },
  {
   "cell_type": "markdown",
   "id": "a201d404-3d71-42df-9df7-84b9995df077",
   "metadata": {},
   "source": [
    "Or this..."
   ]
  },
  {
   "cell_type": "code",
   "execution_count": 27,
   "id": "76599c28-2507-4aa2-b52e-f002dd5f14b8",
   "metadata": {
    "tags": []
   },
   "outputs": [
    {
     "data": {
      "text/plain": [
       "'\\nOne comment\\nTwo comment\\nThree comment\\nFour comment\\n'"
      ]
     },
     "execution_count": 27,
     "metadata": {},
     "output_type": "execute_result"
    }
   ],
   "source": [
    "'''\n",
    "One comment\n",
    "Two comment\n",
    "Three comment\n",
    "Four comment\n",
    "'''"
   ]
  },
  {
   "cell_type": "markdown",
   "id": "e25e74b4-b9fc-4a9d-80f1-9ed32f031d85",
   "metadata": {},
   "source": [
    "## Variables \n",
    "------"
   ]
  },
  {
   "cell_type": "markdown",
   "id": "5e384655-1005-4f55-8afe-e5f15ee251ca",
   "metadata": {},
   "source": [
    "Variables are essentially a placeholder in memory that may or may not contain any actual data. Think of it like a reservation at a resteraunt, you're place is saved (hopefully) and it is expected that you will fill that seat eventually, the restraunt anticipates you being there so they save your place and associate that seat with your name. If you are a no show then the seat stayed empty and the resteraunt wasted resources. \n",
    "\n",
    "This is quite like variables in languages. Here are a few examples of variables in Python."
   ]
  },
  {
   "cell_type": "code",
   "execution_count": 11,
   "id": "f5a2778f-15ac-4bb8-a818-3201364aa0c8",
   "metadata": {},
   "outputs": [
    {
     "name": "stdout",
     "output_type": "stream",
     "text": [
      "25.0\n"
     ]
    }
   ],
   "source": [
    "some_number = 10\n",
    "some_decimal = 2.5\n",
    "\n",
    "product = some_number * some_decimal\n",
    "\n",
    "print(product)"
   ]
  },
  {
   "cell_type": "markdown",
   "id": "98dd7a83-bcad-4e46-a396-46d84e90729b",
   "metadata": {},
   "source": [
    "Here we are making two variables and multiplying them together with the * operator. \n",
    "This is one of many familar operators but we will discuss those more in the next section\n",
    "\n",
    "Notice that some_number is a whole number and some_decimal is a decimal value. I didn't explicit tell the variables what type they were but the Python interpreter determined based on the values that I gave those variables what type they were. It implicitly assigned the types. \n",
    "\n",
    "Let's look at a text variable or in programmer speak a \"string\" value."
   ]
  },
  {
   "cell_type": "code",
   "execution_count": 14,
   "id": "a84ce76b-832c-46ee-9394-f8dff86f368a",
   "metadata": {},
   "outputs": [
    {
     "name": "stdout",
     "output_type": "stream",
     "text": [
      "Wasted reservation\n"
     ]
    }
   ],
   "source": [
    "some_string = \"Wasted reservation\"\n",
    "\n",
    "print(\"Wasted reservation\")"
   ]
  },
  {
   "cell_type": "markdown",
   "id": "8e1c387f-2608-4aa8-bd99-3df61f051967",
   "metadata": {},
   "source": [
    "Above I made an implicitly typed string variable then I printed the same value that was in the string. There are two key things to note here.\n",
    " 1. This some_string variable is still present in the program. It has been saved a seat at the table so to speak.\n",
    " 2. I didn't use the variable that I made. Hence it was wasted.\n",
    " \n",
    "Though I didn't use it the variable is still here..."
   ]
  },
  {
   "cell_type": "code",
   "execution_count": 16,
   "id": "68bee30d-569a-413f-b2be-c40191c7d299",
   "metadata": {},
   "outputs": [
    {
     "name": "stdout",
     "output_type": "stream",
     "text": [
      "Wasted reservation\n"
     ]
    }
   ],
   "source": [
    "print(some_string)"
   ]
  },
  {
   "cell_type": "markdown",
   "id": "bf956b89-5483-4459-8509-5ebe58e5d507",
   "metadata": {},
   "source": [
    ">Here is the official documentation of [variables in Python](https://www.tutorialspoint.com/python/python_variable_types.htmsss)"
   ]
  },
  {
   "cell_type": "markdown",
   "id": "197241af-2558-4c0d-9329-ae07d6c6c266",
   "metadata": {},
   "source": [
    "## Operators\n",
    "-------"
   ]
  },
  {
   "cell_type": "markdown",
   "id": "443ff56e-16ad-4878-a402-72b600361a93",
   "metadata": {},
   "source": [
    "|Operator|Description|\n",
    "|-|-|\n",
    "|+|Addition|\n",
    "|-|Subtraction|\n",
    "|*|Multiplication|\n",
    "|/|Division|\n",
    "|%|Like division but only returns the remainder|\n",
    "|**|Raises the value on the left to the value on the right|\n",
    "\n",
    "I think that a lot of these are fairly self explanatory so let's just slap down some examples."
   ]
  },
  {
   "cell_type": "code",
   "execution_count": 37,
   "id": "17baed79-b2c2-4933-9ca4-eb56c3af2cd3",
   "metadata": {},
   "outputs": [
    {
     "name": "stdout",
     "output_type": "stream",
     "text": [
      "15\n",
      "5\n",
      "50\n",
      "2.0\n",
      "0\n",
      "100000\n"
     ]
    }
   ],
   "source": [
    "x = 10\n",
    "y = 5\n",
    "\n",
    "print(x + y)\n",
    "print(x - y)\n",
    "print(x * y)\n",
    "print(x / y)\n",
    "print(x % y)\n",
    "print(x ** y)\n"
   ]
  },
  {
   "cell_type": "markdown",
   "id": "fa6e329b-38a6-4e65-b5b4-05b62a3dd883",
   "metadata": {},
   "source": [
    "String values can be added together using the + operator in many languages, including Python"
   ]
  },
  {
   "cell_type": "code",
   "execution_count": 38,
   "id": "39326190-5e97-489d-b2ad-81048f65a864",
   "metadata": {},
   "outputs": [
    {
     "name": "stdout",
     "output_type": "stream",
     "text": [
      "Matt Schoder\n"
     ]
    }
   ],
   "source": [
    "first_name = \"Matt\"\n",
    "last_name = \"Schoder\"\n",
    "\n",
    "print(first_name + \" \" + last_name)"
   ]
  },
  {
   "cell_type": "code",
   "execution_count": null,
   "id": "b89a5519-f29e-485a-8b46-2204a7895727",
   "metadata": {},
   "outputs": [],
   "source": []
  }
 ],
 "metadata": {
  "kernelspec": {
   "display_name": "Python 3 (ipykernel)",
   "language": "python",
   "name": "python3"
  },
  "language_info": {
   "codemirror_mode": {
    "name": "ipython",
    "version": 3
   },
   "file_extension": ".py",
   "mimetype": "text/x-python",
   "name": "python",
   "nbconvert_exporter": "python",
   "pygments_lexer": "ipython3",
   "version": "3.10.2"
  }
 },
 "nbformat": 4,
 "nbformat_minor": 5
}
